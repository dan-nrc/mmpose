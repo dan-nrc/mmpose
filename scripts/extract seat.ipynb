{
 "cells": [
  {
   "cell_type": "code",
   "execution_count": 18,
   "metadata": {},
   "outputs": [],
   "source": [
    "import json\n",
    "import numpy as np\n",
    "import PIL.Image\n",
    "import matplotlib.pyplot as plt\n",
    "import cv2\n",
    "from utils import *"
   ]
  },
  {
   "cell_type": "code",
   "execution_count": 20,
   "metadata": {},
   "outputs": [],
   "source": [
    "for i in range(5):    \n",
    "    video_path = f'/media/kyrollosd/FAA/Cabin/rowL-{i}.mp4'\n",
    "\n",
    "    #seat detect\n",
    "    with open(f\"{video_path}.json\",'r') as f:\n",
    "        ann = json.load(f)\n",
    "        bbox_seat = []\n",
    "        for a in ann[\"shapes\"]:\n",
    "            if a['label'] == 'seat':\n",
    "                im = np.zeros((ann['imageHeight'],ann['imageWidth']),dtype=bool)\n",
    "                bbox = np.array(a['points']).astype(int).flatten()\n",
    "                bbox_seat.append(bbox)\n",
    "                        \n",
    "        bbox_seat = np.stack(bbox_seat,axis=0)\n",
    "\n",
    "    video = cv2.VideoCapture(video_path)\n",
    "    fps = video.get(cv2.CAP_PROP_FPS)\n",
    "    nb_frames = int(video.get(cv2.CAP_PROP_FRAME_COUNT))\n",
    "    frame_interval = int(fps)*10\n",
    "    curr = int(video.get(cv2.CAP_PROP_POS_FRAMES))\n",
    "\n",
    "    while True:\n",
    "        ret, frame = video.read()\n",
    "        if not ret:\n",
    "            break\n",
    "        frame = cv2.cvtColor(frame, cv2.COLOR_BGR2RGB)\n",
    "        for j in range(3):\n",
    "            bbox = bbox_seat[j]\n",
    "            bbox_shape = [bbox[2]+1-bbox[0],bbox[3]+1-bbox[1]]\n",
    "            max_dim = np.argmax(bbox_shape)\n",
    "            min_dim = np.argmin(bbox_shape)\n",
    "            exp = (bbox_shape[max_dim]-bbox_shape[min_dim])//2\n",
    "            if max_dim == 1:\n",
    "                newbbox = [exp,0,bbox_shape[min_dim]+exp,bbox_shape[max_dim]]\n",
    "            else:\n",
    "                newbbox = [0,exp,bbox_shape[max_dim],bbox_shape[min_dim]+exp]\n",
    "            square = np.zeros((bbox_shape[max_dim],bbox_shape[max_dim],3),dtype=int)\n",
    "            square[newbbox[1]:newbbox[3],newbbox[0]:newbbox[2]] = frame[bbox[1]:bbox[3]+1,bbox[0]:bbox[2]+1]\n",
    "            cv2.imwrite(f'seat/{i}_{j}_{curr}.jpg',square[...,::-1])\n",
    "        curr += frame_interval\n",
    "        video.set(cv2.CAP_PROP_POS_FRAMES,curr)\n",
    "    \n",
    "    video.release()"
   ]
  },
  {
   "cell_type": "code",
   "execution_count": 14,
   "metadata": {},
   "outputs": [],
   "source": []
  },
  {
   "cell_type": "code",
   "execution_count": 12,
   "metadata": {},
   "outputs": [
    {
     "data": {
      "text/plain": [
       "86400"
      ]
     },
     "execution_count": 12,
     "metadata": {},
     "output_type": "execute_result"
    }
   ],
   "source": [
    "40*60*3*12"
   ]
  },
  {
   "cell_type": "code",
   "execution_count": null,
   "metadata": {},
   "outputs": [],
   "source": []
  }
 ],
 "metadata": {
  "kernelspec": {
   "display_name": "mmlab",
   "language": "python",
   "name": "python3"
  },
  "language_info": {
   "codemirror_mode": {
    "name": "ipython",
    "version": 3
   },
   "file_extension": ".py",
   "mimetype": "text/x-python",
   "name": "python",
   "nbconvert_exporter": "python",
   "pygments_lexer": "ipython3",
   "version": "3.8.3"
  }
 },
 "nbformat": 4,
 "nbformat_minor": 2
}
